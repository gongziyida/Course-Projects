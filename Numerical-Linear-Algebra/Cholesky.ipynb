{
 "cells": [
  {
   "cell_type": "code",
   "execution_count": 13,
   "metadata": {},
   "outputs": [],
   "source": [
    "import numpy as np\n",
    "from numpy.linalg import norm\n",
    "np.set_printoptions(precision=10)"
   ]
  },
  {
   "cell_type": "code",
   "execution_count": 14,
   "metadata": {},
   "outputs": [],
   "source": [
    "def Cholesky(A: np.array):\n",
    "    m, _ = A.shape\n",
    "    if m != _: return\n",
    "    if not (A.T == A).all(): return\n",
    "    R = np.triu(A)\n",
    "    for k in range(m):\n",
    "        if R[k, k] <= 0: \n",
    "            raise np.linalg.LinAlgError()\n",
    "        R[k, k:] = R[k, k:]/np.sqrt(R[k, k])\n",
    "        for i in range(k+1, m):\n",
    "            R[i, i:] = R[i, i:] - R[k, i:]*R[k, i]\n",
    "    return R"
   ]
  },
  {
   "cell_type": "code",
   "execution_count": 15,
   "metadata": {},
   "outputs": [],
   "source": [
    "def gausspivot(A: np.array):\n",
    "    m = A.shape[0]\n",
    "    assert m == A.shape[1]\n",
    "    \n",
    "    L = np.identity(m)\n",
    "    P = np.identity(m)\n",
    "    U = A.copy()\n",
    "    for k in range(m-1):\n",
    "        i_max = np.argmax(A[k:, k]**2) + k # find arg max\n",
    "        # swapping U P L        \n",
    "        P[[k, i_max]] = P[[i_max, k]] \n",
    "        U[[k, i_max], k:] = U[[i_max, k], k:]\n",
    "        L[[k, i_max], :k] = L[[i_max, k], :k]\n",
    "        for i in range(k+1, m):\n",
    "            L[i:, k] = U[i, k]/U[k, k]\n",
    "            U[i] -= L[i, k]*U[k]\n",
    "            \n",
    "    return (L, U, P)"
   ]
  },
  {
   "cell_type": "code",
   "execution_count": 16,
   "metadata": {},
   "outputs": [],
   "source": [
    "A = np.array([[10, 3, -1, -3, -9], \n",
    "              [3, 6, -5, -3, -1], \n",
    "              [-1, -5, 9, 2, -1], \n",
    "              [-3, -3, 2, 2, 2], \n",
    "              [-9, -1, -1, 2, 9]], dtype=np.float128)"
   ]
  },
  {
   "cell_type": "code",
   "execution_count": 17,
   "metadata": {},
   "outputs": [
    {
     "name": "stdout",
     "output_type": "stream",
     "text": [
      "[[ 1.            0.            0.            0.            0.          ]\n",
      " [ 0.3           1.            0.            0.            0.          ]\n",
      " [-0.1          -0.9215686275  1.            0.            0.          ]\n",
      " [-0.3          -0.4117647059 -0.0515021459  1.            0.          ]\n",
      " [-0.9           0.3333333333 -0.0729613734 -0.0769230769  1.          ]] \n",
      "\n",
      " [[ 1.0000000000e+01  3.0000000000e+00 -1.0000000000e+00 -3.0000000000e+00\n",
      "  -9.0000000000e+00]\n",
      " [ 1.1102230246e-16  5.1000000000e+00 -4.7000000000e+00 -2.1000000000e+00\n",
      "   1.7000000000e+00]\n",
      " [ 1.5782582213e-16 -2.3028454144e-16  4.5686274510e+00 -2.3529411765e-01\n",
      "  -3.3333333333e-01]\n",
      " [-5.7178868221e-17 -1.3133922746e-16  1.5016200089e-17  2.2317596567e-01\n",
      "  -1.7167381974e-02]\n",
      " [ 1.9215398503e-16 -1.6015334091e-16 -1.3927827908e-18 -9.4190063735e-19\n",
      "   3.0769230769e-01]]\n",
      "Delta1:  5.224497803497941143e-20\n"
     ]
    }
   ],
   "source": [
    "L, U, _ = gausspivot(A)\n",
    "print(L, '\\n\\n', U)\n",
    "print('Delta1: ', norm(L@U - A)/norm(A))"
   ]
  },
  {
   "cell_type": "code",
   "execution_count": 18,
   "metadata": {},
   "outputs": [
    {
     "name": "stdout",
     "output_type": "stream",
     "text": [
      "[[ 3.1622776602  0.9486832981 -0.316227766  -0.9486832981 -2.8460498942]\n",
      " [ 0.            2.2583179581 -2.081194981  -0.9298956298  0.7527726527]\n",
      " [ 0.            0.            2.1374347829 -0.1100824781 -0.1559501773]\n",
      " [ 0.            0.            0.            0.4724150354 -0.0363396181]\n",
      " [ 0.            0.            0.            0.            0.5547001962]]\n",
      "Delta2:  4.7866666924387177493e-20\n"
     ]
    }
   ],
   "source": [
    "R = Cholesky(A)\n",
    "print(R)\n",
    "print('Delta2: ', norm(R.T@R - A)/norm(A))"
   ]
  }
 ],
 "metadata": {
  "kernelspec": {
   "display_name": "Python 3",
   "language": "python",
   "name": "python3"
  },
  "language_info": {
   "codemirror_mode": {
    "name": "ipython",
    "version": 3
   },
   "file_extension": ".py",
   "mimetype": "text/x-python",
   "name": "python",
   "nbconvert_exporter": "python",
   "pygments_lexer": "ipython3",
   "version": "3.6.7"
  }
 },
 "nbformat": 4,
 "nbformat_minor": 2
}
