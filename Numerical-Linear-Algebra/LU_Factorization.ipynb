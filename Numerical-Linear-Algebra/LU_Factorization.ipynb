{
 "cells": [
  {
   "cell_type": "code",
   "execution_count": 1,
   "metadata": {
    "scrolled": true
   },
   "outputs": [],
   "source": [
    "import numpy as np\n",
    "from numpy.linalg import norm\n",
    "np.set_printoptions(precision=5)"
   ]
  },
  {
   "cell_type": "code",
   "execution_count": 2,
   "metadata": {
    "scrolled": true
   },
   "outputs": [],
   "source": [
    "def gauss(A: np.array):\n",
    "    m = A.shape[0]\n",
    "    assert m == A.shape[1]\n",
    "    \n",
    "    L = np.identity(m)\n",
    "    U = A.copy()\n",
    "    for k in range(m-1):\n",
    "        for i in range(k+1, m):\n",
    "            L[i:, k] = U[i, k]/U[k, k]\n",
    "            U[i] -= L[i, k]*U[k]\n",
    "            \n",
    "    return (L, U)"
   ]
  },
  {
   "cell_type": "code",
   "execution_count": 3,
   "metadata": {
    "scrolled": true
   },
   "outputs": [],
   "source": [
    "def gausspivot(A: np.array):\n",
    "    m = A.shape[0]\n",
    "    assert m == A.shape[1]\n",
    "    \n",
    "    L = np.identity(m)\n",
    "    P = np.identity(m)\n",
    "    U = A.copy()\n",
    "    for k in range(m-1):\n",
    "        i_max = np.argmax(A[k+1:, k]**2) + k + 1 # find arg max\n",
    "        # swapping U P L        \n",
    "        P[[k, i_max]] = P[[i_max, k]] \n",
    "        U[[k, i_max], k:] = U[[i_max, k], k:]\n",
    "        L[[k, i_max], :k] = L[[i_max, k], :k]\n",
    "        for i in range(k+1, m):\n",
    "            L[i:, k] = U[i, k]/U[k, k]\n",
    "            U[i] -= L[i, k]*U[k]\n",
    "            \n",
    "    return (L, U, P)"
   ]
  },
  {
   "cell_type": "code",
   "execution_count": 5,
   "metadata": {
    "scrolled": true
   },
   "outputs": [],
   "source": [
    "A = np.array([[-8, -9, 7, 19, 3],\n",
    "             [9, 10, 9, 1, -16],\n",
    "             [7, 2, -8, -2, 3],\n",
    "             [19, 8, -18, -8, -3],\n",
    "             [15, 10, 16, -16, -18]], dtype='float64')"
   ]
  },
  {
   "cell_type": "code",
   "execution_count": 6,
   "metadata": {
    "scrolled": true
   },
   "outputs": [
    {
     "name": "stdout",
     "output_type": "stream",
     "text": [
      "L = \n",
      "[[   1.         0.         0.         0.         0.     ]\n",
      " [  -1.125      1.         0.         0.         0.     ]\n",
      " [  -0.875     47.         1.         0.         0.     ]\n",
      " [  -2.375    107.         2.27296    1.         0.     ]\n",
      " [  -1.875     55.         1.13082 -692.77273    1.     ]]\n",
      "\n",
      "U = \n",
      "[[-8.00000e+00 -9.00000e+00  7.00000e+00  1.90000e+01  3.00000e+00]\n",
      " [ 0.00000e+00 -1.25000e-01  1.68750e+01  2.23750e+01 -1.26250e+01]\n",
      " [ 0.00000e+00  0.00000e+00 -7.95000e+02 -1.03700e+03  5.99000e+02]\n",
      " [ 0.00000e+00  0.00000e+00  2.27374e-13  5.53459e-02 -6.50063e+00]\n",
      " [ 0.00000e+00  0.00000e+00  1.57518e-10  0.00000e+00 -4.49882e+03]]\n",
      "\n",
      "eps1 = 4.5343471868882046e-15\n"
     ]
    }
   ],
   "source": [
    "L, U = gauss(A)\n",
    "eps1 = norm(L@U - A)/norm(A)\n",
    "print('L = \\n{}\\n\\nU = \\n{}\\n\\neps1 = {}'.format(L, U, eps1))"
   ]
  },
  {
   "cell_type": "code",
   "execution_count": 7,
   "metadata": {},
   "outputs": [
    {
     "name": "stdout",
     "output_type": "stream",
     "text": [
      "L = \n",
      "[[ 1.       0.       0.       0.       0.     ]\n",
      " [ 0.78947  1.       0.       0.       0.     ]\n",
      " [-0.42105 -1.52857  1.       0.       0.     ]\n",
      " [ 0.47368  1.68571 -0.73246  1.       0.     ]\n",
      " [ 0.36842 -0.25714  0.14035 -0.07638  1.     ]]\n",
      "\n",
      "U = \n",
      "[[ 19.        8.      -18.       -8.       -3.     ]\n",
      " [  0.        3.68421  30.21053  -9.68421 -15.63158]\n",
      " [  0.        0.       45.6       0.82857 -22.15714]\n",
      " [  0.        0.        0.       21.72118  -4.45771]\n",
      " [  0.        0.        0.        0.        2.85499]]\n",
      "\n",
      "P = \n",
      "[[0. 0. 0. 1. 0.]\n",
      " [0. 0. 0. 0. 1.]\n",
      " [1. 0. 0. 0. 0.]\n",
      " [0. 1. 0. 0. 0.]\n",
      " [0. 0. 1. 0. 0.]]\n",
      "\n",
      "eps2 = 7.696662663893883e-17\n"
     ]
    }
   ],
   "source": [
    "L, U, P = gausspivot(A)\n",
    "eps2 = norm(L@U - P@A)/norm(A)\n",
    "print('L = \\n{}\\n\\nU = \\n{}\\n\\nP = \\n{}\\n\\neps2 = {}'.format(L, U, P, eps2))"
   ]
  }
 ],
 "metadata": {
  "kernelspec": {
   "display_name": "Python 3",
   "language": "python",
   "name": "python3"
  },
  "language_info": {
   "codemirror_mode": {
    "name": "ipython",
    "version": 3
   },
   "file_extension": ".py",
   "mimetype": "text/x-python",
   "name": "python",
   "nbconvert_exporter": "python",
   "pygments_lexer": "ipython3",
   "version": "3.6.7"
  }
 },
 "nbformat": 4,
 "nbformat_minor": 2
}
